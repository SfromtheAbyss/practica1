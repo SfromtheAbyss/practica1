{
 "cells": [
  {
   "cell_type": "code",
   "execution_count": 2,
   "id": "fa2115f4-e168-44c3-8f35-1f82ff8d819f",
   "metadata": {},
   "outputs": [
    {
     "name": "stdout",
     "output_type": "stream",
     "text": [
      "Hola, mundo\n"
     ]
    }
   ],
   "source": [
    "print(\"Hola, mundo\")"
   ]
  },
  {
   "cell_type": "code",
   "execution_count": null,
   "id": "1ccd1229-8e5e-47d0-aaef-fb181b6ae748",
   "metadata": {},
   "outputs": [],
   "source": []
  },
  {
   "cell_type": "code",
   "execution_count": null,
   "id": "67ff839f-766f-47e1-8fba-e5348344045a",
   "metadata": {},
   "outputs": [],
   "source": []
  }
 ],
 "metadata": {
  "kernelspec": {
   "display_name": "Python 3 (ipykernel)",
   "language": "python",
   "name": "python3"
  },
  "language_info": {
   "codemirror_mode": {
    "name": "ipython",
    "version": 3
   },
   "file_extension": ".py",
   "mimetype": "text/x-python",
   "name": "python",
   "nbconvert_exporter": "python",
   "pygments_lexer": "ipython3",
   "version": "3.12.7"
  }
 },
 "nbformat": 4,
 "nbformat_minor": 5
}
